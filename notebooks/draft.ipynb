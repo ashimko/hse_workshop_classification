{
 "cells": [
  {
   "cell_type": "code",
   "execution_count": 3,
   "metadata": {},
   "outputs": [],
   "source": [
    "import pandas as pd\n",
    "import numpy as np\n",
    "import seaborn as sns\n",
    "from matplotlib import pyplot as plt\n",
    "import os"
   ]
  },
  {
   "cell_type": "markdown",
   "metadata": {},
   "source": [
    "# EDA"
   ]
  },
  {
   "cell_type": "code",
   "execution_count": 4,
   "metadata": {},
   "outputs": [],
   "source": [
    "raw_path = 'data/raw/'\n",
    "train = pd.read_csv(os.path.join(raw_path, 'train.csv'))\n",
    "test = pd.read_csv(os.path.join(raw_path, 'test.csv'))"
   ]
  },
  {
   "cell_type": "code",
   "execution_count": 5,
   "metadata": {},
   "outputs": [],
   "source": [
    "TARGET_COLS = ['Артериальная гипертензия', 'ОНМК', 'Стенокардия, ИБС, инфаркт миокарда', 'Сердечная недостаточность', 'Прочие заболевания сердца']\n",
    "ID_COL = 'ID'\n",
    "EDU_COL = 'Образование'\n",
    "SEX_COL = 'Пол'\n",
    "CAT_COLS = [\n",
    "    'Пол', 'Семья', 'Этнос', 'Национальность', 'Религия', 'Образование', \n",
    "    'Профессия', 'Статус Курения', 'Частота пасс кур', 'Алкоголь',\n",
    "    'Время засыпания', 'Время пробуждения'\n",
    "]\n",
    "OHE_COLS = [\n",
    "    'Пол', 'Вы работаете?', 'Выход на пенсию', 'Прекращение работы по болезни', 'Сахарный диабет', 'Гепатит',\n",
    "    'Онкология', 'Хроническое заболевание легких', 'Бронжиальная астма', 'Туберкулез легких ', 'ВИЧ/СПИД',\n",
    "    'Регулярный прим лекарственных средств', 'Травмы за год', 'Переломы','Пассивное курение', 'Сон после обеда', \n",
    "    'Спорт, клубы', 'Религия, клубы'\n",
    "]\n",
    "REAL_COLS = ['Возраст курения', 'Сигарет в день', 'Возраст алког']"
   ]
  },
  {
   "cell_type": "code",
   "execution_count": 6,
   "metadata": {},
   "outputs": [],
   "source": [
    "def set_idx(df: pd.DataFrame, idx_col: str) -> pd.DataFrame:\n",
    "    df = df.set_index(idx_col)\n",
    "    return df"
   ]
  },
  {
   "cell_type": "code",
   "execution_count": 7,
   "metadata": {},
   "outputs": [],
   "source": [
    "train = train.set_index(ID_COL)\n",
    "test = test.set_index(ID_COL)"
   ]
  },
  {
   "cell_type": "code",
   "execution_count": 8,
   "metadata": {},
   "outputs": [],
   "source": [
    "train, target = train.drop(TARGET_COLS, axis=1), train[TARGET_COLS]"
   ]
  },
  {
   "cell_type": "code",
   "execution_count": 10,
   "metadata": {},
   "outputs": [],
   "source": [
    "def preprocess(df: pd.DataFrame) -> pd.DataFrame:\n",
    "    df = set_idx(df, ID_COL)\n",
    "    df = drop_unnecesary_id(df)\n",
    "    df = fill_sex(df)\n",
    "    df = cast_types(df)\n",
    "    return df\n",
    "    \n",
    "    "
   ]
  },
  {
   "cell_type": "code",
   "execution_count": 11,
   "metadata": {},
   "outputs": [],
   "source": [
    "def drop_unnecesary_id(df: pd.DataFrame) -> pd.DataFrame:\n",
    "    if 'ID_y' in df.columns:\n",
    "        df = df.drop('ID_y', axis=1)\n",
    "    return df"
   ]
  },
  {
   "cell_type": "code",
   "execution_count": 12,
   "metadata": {},
   "outputs": [],
   "source": [
    "train = drop_unnecesary_id(train)"
   ]
  },
  {
   "cell_type": "code",
   "execution_count": 13,
   "metadata": {},
   "outputs": [],
   "source": [
    "def add_ord_edu(df: pd.DataFrame) -> pd.DataFrame:\n",
    "    df[f'{EDU_COL}_ord'] = df[EDU_COL].str.slice(0, 1).astype(np.int8).values\n",
    "    return df"
   ]
  },
  {
   "cell_type": "code",
   "execution_count": 14,
   "metadata": {},
   "outputs": [],
   "source": [
    "train = add_ord_edu(train)\n",
    "test = add_ord_edu(test)"
   ]
  },
  {
   "cell_type": "code",
   "execution_count": 15,
   "metadata": {},
   "outputs": [],
   "source": [
    "def fill_sex(df: pd.DataFrame) -> pd.DataFrame:\n",
    "    most_freq = df[SEX_COL].value_counts().index[0]\n",
    "    df[SEX_COL] = df[SEX_COL].fillna(most_freq)\n",
    "    return df"
   ]
  },
  {
   "cell_type": "code",
   "execution_count": 16,
   "metadata": {},
   "outputs": [],
   "source": [
    "def cast_types(df: pd.DataFrame) -> pd.DataFrame:\n",
    "    df[CAT_COLS] = df[CAT_COLS].astype('category')\n",
    "\n",
    "    ohe_int_cols = train[OHE_COLS].select_dtypes('number').columns\n",
    "    df[ohe_int_cols] = df[ohe_int_cols].astype(np.int8)\n",
    "\n",
    "    df[REAL_COLS] = df[REAL_COLS].astype(np.float32)\n",
    "    return df\n",
    "    "
   ]
  },
  {
   "cell_type": "markdown",
   "metadata": {},
   "source": [
    "# MODELING"
   ]
  },
  {
   "cell_type": "code",
   "execution_count": 17,
   "metadata": {},
   "outputs": [],
   "source": [
    "import os\n",
    "import pandas as pd\n",
    "import numpy as np"
   ]
  },
  {
   "cell_type": "code",
   "execution_count": 18,
   "metadata": {},
   "outputs": [],
   "source": [
    "from sklearn.svm import *\n",
    "from sklearn.model_selection import *\n",
    "from sklearn.preprocessing import *\n",
    "from sklearn.compose import *\n",
    "from sklearn.pipeline import *\n",
    "from sklearn.metrics import *\n",
    "from sklearn.impute import *\n",
    "from sklearn.multioutput import *"
   ]
  },
  {
   "cell_type": "code",
   "execution_count": 19,
   "metadata": {},
   "outputs": [],
   "source": [
    "import src.config as cfg"
   ]
  },
  {
   "cell_type": "code",
   "execution_count": 20,
   "metadata": {},
   "outputs": [],
   "source": [
    "RS = 77"
   ]
  },
  {
   "cell_type": "code",
   "execution_count": 27,
   "metadata": {},
   "outputs": [],
   "source": [
    "processed_data_path = 'data/processed/'\n",
    "train = pd.read_pickle(os.path.join(processed_data_path, 'train.pkl'))\n",
    "target = pd.read_pickle(os.path.join(processed_data_path, 'target.pkl'))"
   ]
  },
  {
   "cell_type": "code",
   "execution_count": 22,
   "metadata": {},
   "outputs": [],
   "source": [
    "train[cfg.CAT_COLS] = train[cfg.CAT_COLS].astype('object')"
   ]
  },
  {
   "cell_type": "code",
   "execution_count": 23,
   "metadata": {},
   "outputs": [],
   "source": [
    "# int8_cols = train.head(0).select_dtypes('int8').columns\n",
    "# train[int8_cols] = train[int8_cols].astype(np.int32)\n",
    "# target = target.astype(np.int32)"
   ]
  },
  {
   "cell_type": "code",
   "execution_count": 24,
   "metadata": {},
   "outputs": [],
   "source": [
    "from functools import partial"
   ]
  },
  {
   "cell_type": "code",
   "execution_count": 25,
   "metadata": {},
   "outputs": [],
   "source": [
    "scoring = partial(fbeta_score, beta=2.0)"
   ]
  },
  {
   "cell_type": "code",
   "execution_count": 28,
   "metadata": {},
   "outputs": [],
   "source": [
    "train_idx, val_idx = train_test_split(\n",
    "        train.index, test_size=0.2, random_state=7)"
   ]
  },
  {
   "cell_type": "code",
   "execution_count": 29,
   "metadata": {},
   "outputs": [
    {
     "data": {
      "text/plain": [
       "Index(['54-501-041-01', '54-101-071-01', '54-102-244-01', '54-601-028-02',\n",
       "       '54-601-006-01', '54-501-062-01', '54-001-070-02', '54-101-008-02',\n",
       "       '54-002-111-01', '54-102-053-01',\n",
       "       ...\n",
       "       '54-002-004-02', '54-101-065-01', '54-501-038-01', '54-101-044-01',\n",
       "       '54-103-069-01', '54-102-250-01', '54-701-012-02', '54-102-018-02',\n",
       "       '54-102-029-01', '54-102-340-01'],\n",
       "      dtype='object', name='ID', length=764)"
      ]
     },
     "execution_count": 29,
     "metadata": {},
     "output_type": "execute_result"
    }
   ],
   "source": [
    "train_idx"
   ]
  },
  {
   "cell_type": "code",
   "execution_count": 32,
   "metadata": {},
   "outputs": [],
   "source": [
    "val_idx.to_frame().to_pickle('temp.pkl')"
   ]
  },
  {
   "cell_type": "code",
   "execution_count": 33,
   "metadata": {},
   "outputs": [],
   "source": [
    "import pickle"
   ]
  },
  {
   "cell_type": "code",
   "execution_count": 34,
   "metadata": {},
   "outputs": [],
   "source": [
    "with open('tmp2.pkl', 'wb') as f:\n",
    "    pickle.dump(val_idx, f)"
   ]
  },
  {
   "cell_type": "code",
   "execution_count": 36,
   "metadata": {},
   "outputs": [],
   "source": [
    "with open('tmp2.pkl', 'rb') as f:\n",
    "    val_idx2 = pickle.load(f)"
   ]
  },
  {
   "cell_type": "code",
   "execution_count": 39,
   "metadata": {},
   "outputs": [
    {
     "data": {
      "text/plain": [
       "pandas.core.frame.DataFrame"
      ]
     },
     "execution_count": 39,
     "metadata": {},
     "output_type": "execute_result"
    }
   ],
   "source": [
    "type(train)"
   ]
  },
  {
   "cell_type": "code",
   "execution_count": 41,
   "metadata": {},
   "outputs": [
    {
     "data": {
      "text/plain": [
       "pandas.core.indexes.base.Index"
      ]
     },
     "execution_count": 41,
     "metadata": {},
     "output_type": "execute_result"
    }
   ],
   "source": []
  },
  {
   "cell_type": "code",
   "execution_count": 40,
   "metadata": {},
   "outputs": [
    {
     "data": {
      "text/plain": [
       "pandas.core.indexes.base.Index"
      ]
     },
     "execution_count": 40,
     "metadata": {},
     "output_type": "execute_result"
    }
   ],
   "source": [
    "type(val_idx2)"
   ]
  },
  {
   "cell_type": "code",
   "execution_count": 37,
   "metadata": {},
   "outputs": [
    {
     "data": {
      "text/plain": [
       "Index(['54-501-020-01', '54-101-047-01', '54-102-300-03', '54-103-046-01',\n",
       "       '54-602-026-02', '54-002-118-01', '54-501-071-01', '54-501-055-02',\n",
       "       '54-001-033-01', '54-001-062-01',\n",
       "       ...\n",
       "       '54-503-002-01', '54-601-019-02', '54-501-061-01', '54-503-008-01',\n",
       "       '54-103-053-01', '54-504-003-01', '54-501-035-02', '54-102-159-01',\n",
       "       '54-103-096-02', '54-701-005-01'],\n",
       "      dtype='object', name='ID', length=191)"
      ]
     },
     "execution_count": 37,
     "metadata": {},
     "output_type": "execute_result"
    }
   ],
   "source": [
    "val_idx2"
   ]
  },
  {
   "cell_type": "code",
   "execution_count": 26,
   "metadata": {},
   "outputs": [],
   "source": [
    "train_data, val_data, train_target, val_target = train_test_split(train, target, train_size=0.8, random_state=RS)"
   ]
  },
  {
   "cell_type": "code",
   "execution_count": 15,
   "metadata": {},
   "outputs": [
    {
     "data": {
      "text/html": [
       "<div>\n",
       "<style scoped>\n",
       "    .dataframe tbody tr th:only-of-type {\n",
       "        vertical-align: middle;\n",
       "    }\n",
       "\n",
       "    .dataframe tbody tr th {\n",
       "        vertical-align: top;\n",
       "    }\n",
       "\n",
       "    .dataframe thead th {\n",
       "        text-align: right;\n",
       "    }\n",
       "</style>\n",
       "<table border=\"1\" class=\"dataframe\">\n",
       "  <thead>\n",
       "    <tr style=\"text-align: right;\">\n",
       "      <th></th>\n",
       "      <th>Пол</th>\n",
       "      <th>Семья</th>\n",
       "      <th>Этнос</th>\n",
       "      <th>Национальность</th>\n",
       "      <th>Религия</th>\n",
       "      <th>Образование</th>\n",
       "      <th>Профессия</th>\n",
       "      <th>Вы работаете?</th>\n",
       "      <th>Выход на пенсию</th>\n",
       "      <th>Прекращение работы по болезни</th>\n",
       "      <th>...</th>\n",
       "      <th>Сигарет в день</th>\n",
       "      <th>Пассивное курение</th>\n",
       "      <th>Частота пасс кур</th>\n",
       "      <th>Алкоголь</th>\n",
       "      <th>Возраст алког</th>\n",
       "      <th>Время засыпания</th>\n",
       "      <th>Время пробуждения</th>\n",
       "      <th>Сон после обеда</th>\n",
       "      <th>Спорт, клубы</th>\n",
       "      <th>Религия, клубы</th>\n",
       "    </tr>\n",
       "    <tr>\n",
       "      <th>ID</th>\n",
       "      <th></th>\n",
       "      <th></th>\n",
       "      <th></th>\n",
       "      <th></th>\n",
       "      <th></th>\n",
       "      <th></th>\n",
       "      <th></th>\n",
       "      <th></th>\n",
       "      <th></th>\n",
       "      <th></th>\n",
       "      <th></th>\n",
       "      <th></th>\n",
       "      <th></th>\n",
       "      <th></th>\n",
       "      <th></th>\n",
       "      <th></th>\n",
       "      <th></th>\n",
       "      <th></th>\n",
       "      <th></th>\n",
       "      <th></th>\n",
       "      <th></th>\n",
       "    </tr>\n",
       "  </thead>\n",
       "  <tbody>\n",
       "    <tr>\n",
       "      <th>54-103-054-01</th>\n",
       "      <td>Ж</td>\n",
       "      <td>в браке в настоящее время</td>\n",
       "      <td>европейская</td>\n",
       "      <td>Русские</td>\n",
       "      <td>Христианство</td>\n",
       "      <td>5 - ВУЗ</td>\n",
       "      <td>дипломированные специалисты</td>\n",
       "      <td>1</td>\n",
       "      <td>0</td>\n",
       "      <td>0</td>\n",
       "      <td>...</td>\n",
       "      <td>NaN</td>\n",
       "      <td>0</td>\n",
       "      <td>NaN</td>\n",
       "      <td>употребляю в настоящее время</td>\n",
       "      <td>26.0</td>\n",
       "      <td>22:00:00</td>\n",
       "      <td>06:00:00</td>\n",
       "      <td>0</td>\n",
       "      <td>1</td>\n",
       "      <td>0</td>\n",
       "    </tr>\n",
       "    <tr>\n",
       "      <th>54-102-299-01</th>\n",
       "      <td>Ж</td>\n",
       "      <td>вдовец / вдова</td>\n",
       "      <td>европейская</td>\n",
       "      <td>Русские</td>\n",
       "      <td>Христианство</td>\n",
       "      <td>5 - ВУЗ</td>\n",
       "      <td>дипломированные специалисты</td>\n",
       "      <td>0</td>\n",
       "      <td>1</td>\n",
       "      <td>0</td>\n",
       "      <td>...</td>\n",
       "      <td>NaN</td>\n",
       "      <td>0</td>\n",
       "      <td>NaN</td>\n",
       "      <td>никогда не употреблял</td>\n",
       "      <td>NaN</td>\n",
       "      <td>22:30:00</td>\n",
       "      <td>08:30:00</td>\n",
       "      <td>0</td>\n",
       "      <td>1</td>\n",
       "      <td>0</td>\n",
       "    </tr>\n",
       "    <tr>\n",
       "      <th>54-102-138-01</th>\n",
       "      <td>Ж</td>\n",
       "      <td>никогда не был(а) в браке</td>\n",
       "      <td>европейская</td>\n",
       "      <td>Русские</td>\n",
       "      <td>Христианство</td>\n",
       "      <td>5 - ВУЗ</td>\n",
       "      <td>низкоквалифицированные работники</td>\n",
       "      <td>1</td>\n",
       "      <td>0</td>\n",
       "      <td>0</td>\n",
       "      <td>...</td>\n",
       "      <td>NaN</td>\n",
       "      <td>0</td>\n",
       "      <td>NaN</td>\n",
       "      <td>никогда не употреблял</td>\n",
       "      <td>NaN</td>\n",
       "      <td>22:00:00</td>\n",
       "      <td>06:30:00</td>\n",
       "      <td>0</td>\n",
       "      <td>0</td>\n",
       "      <td>0</td>\n",
       "    </tr>\n",
       "    <tr>\n",
       "      <th>54-601-033-01</th>\n",
       "      <td>Ж</td>\n",
       "      <td>в браке в настоящее время</td>\n",
       "      <td>европейская</td>\n",
       "      <td>Русские</td>\n",
       "      <td>Христианство</td>\n",
       "      <td>4 - профессиональное училище</td>\n",
       "      <td>операторы и монтажники установок и машинного о...</td>\n",
       "      <td>0</td>\n",
       "      <td>1</td>\n",
       "      <td>0</td>\n",
       "      <td>...</td>\n",
       "      <td>NaN</td>\n",
       "      <td>0</td>\n",
       "      <td>NaN</td>\n",
       "      <td>употребляю в настоящее время</td>\n",
       "      <td>20.0</td>\n",
       "      <td>22:00:00</td>\n",
       "      <td>07:00:00</td>\n",
       "      <td>0</td>\n",
       "      <td>0</td>\n",
       "      <td>0</td>\n",
       "    </tr>\n",
       "    <tr>\n",
       "      <th>54-602-054-01</th>\n",
       "      <td>Ж</td>\n",
       "      <td>в разводе</td>\n",
       "      <td>европейская</td>\n",
       "      <td>Русские</td>\n",
       "      <td>Христианство</td>\n",
       "      <td>4 - профессиональное училище</td>\n",
       "      <td>ведение домашнего хозяйства</td>\n",
       "      <td>0</td>\n",
       "      <td>1</td>\n",
       "      <td>0</td>\n",
       "      <td>...</td>\n",
       "      <td>10.0</td>\n",
       "      <td>0</td>\n",
       "      <td>NaN</td>\n",
       "      <td>употребляю в настоящее время</td>\n",
       "      <td>18.0</td>\n",
       "      <td>00:00:00</td>\n",
       "      <td>07:00:00</td>\n",
       "      <td>1</td>\n",
       "      <td>0</td>\n",
       "      <td>0</td>\n",
       "    </tr>\n",
       "  </tbody>\n",
       "</table>\n",
       "<p>5 rows × 32 columns</p>\n",
       "</div>"
      ],
      "text/plain": [
       "              Пол                      Семья        Этнос Национальность  \\\n",
       "ID                                                                         \n",
       "54-103-054-01   Ж  в браке в настоящее время  европейская        Русские   \n",
       "54-102-299-01   Ж             вдовец / вдова  европейская        Русские   \n",
       "54-102-138-01   Ж  никогда не был(а) в браке  европейская        Русские   \n",
       "54-601-033-01   Ж  в браке в настоящее время  европейская        Русские   \n",
       "54-602-054-01   Ж                  в разводе  европейская        Русские   \n",
       "\n",
       "                    Религия                   Образование  \\\n",
       "ID                                                          \n",
       "54-103-054-01  Христианство                       5 - ВУЗ   \n",
       "54-102-299-01  Христианство                       5 - ВУЗ   \n",
       "54-102-138-01  Христианство                       5 - ВУЗ   \n",
       "54-601-033-01  Христианство  4 - профессиональное училище   \n",
       "54-602-054-01  Христианство  4 - профессиональное училище   \n",
       "\n",
       "                                                       Профессия  \\\n",
       "ID                                                                 \n",
       "54-103-054-01                        дипломированные специалисты   \n",
       "54-102-299-01                        дипломированные специалисты   \n",
       "54-102-138-01                   низкоквалифицированные работники   \n",
       "54-601-033-01  операторы и монтажники установок и машинного о...   \n",
       "54-602-054-01                        ведение домашнего хозяйства   \n",
       "\n",
       "               Вы работаете?  Выход на пенсию  Прекращение работы по болезни  \\\n",
       "ID                                                                             \n",
       "54-103-054-01              1                0                              0   \n",
       "54-102-299-01              0                1                              0   \n",
       "54-102-138-01              1                0                              0   \n",
       "54-601-033-01              0                1                              0   \n",
       "54-602-054-01              0                1                              0   \n",
       "\n",
       "               ...  Сигарет в день  Пассивное курение  Частота пасс кур  \\\n",
       "ID             ...                                                        \n",
       "54-103-054-01  ...             NaN                  0               NaN   \n",
       "54-102-299-01  ...             NaN                  0               NaN   \n",
       "54-102-138-01  ...             NaN                  0               NaN   \n",
       "54-601-033-01  ...             NaN                  0               NaN   \n",
       "54-602-054-01  ...            10.0                  0               NaN   \n",
       "\n",
       "                                   Алкоголь  Возраст алког  Время засыпания  \\\n",
       "ID                                                                            \n",
       "54-103-054-01  употребляю в настоящее время           26.0         22:00:00   \n",
       "54-102-299-01         никогда не употреблял            NaN         22:30:00   \n",
       "54-102-138-01         никогда не употреблял            NaN         22:00:00   \n",
       "54-601-033-01  употребляю в настоящее время           20.0         22:00:00   \n",
       "54-602-054-01  употребляю в настоящее время           18.0         00:00:00   \n",
       "\n",
       "               Время пробуждения  Сон после обеда  Спорт, клубы  \\\n",
       "ID                                                                \n",
       "54-103-054-01           06:00:00                0             1   \n",
       "54-102-299-01           08:30:00                0             1   \n",
       "54-102-138-01           06:30:00                0             0   \n",
       "54-601-033-01           07:00:00                0             0   \n",
       "54-602-054-01           07:00:00                1             0   \n",
       "\n",
       "               Религия, клубы  \n",
       "ID                             \n",
       "54-103-054-01               0  \n",
       "54-102-299-01               0  \n",
       "54-102-138-01               0  \n",
       "54-601-033-01               0  \n",
       "54-602-054-01               0  \n",
       "\n",
       "[5 rows x 32 columns]"
      ]
     },
     "execution_count": 15,
     "metadata": {},
     "output_type": "execute_result"
    }
   ],
   "source": [
    "train_data.head()"
   ]
  },
  {
   "cell_type": "code",
   "execution_count": 16,
   "metadata": {},
   "outputs": [],
   "source": [
    "real_pipe = Pipeline([\n",
    "    ('imputer', SimpleImputer()),\n",
    "    ('scaler', StandardScaler())\n",
    "]\n",
    ")"
   ]
  },
  {
   "cell_type": "code",
   "execution_count": 17,
   "metadata": {},
   "outputs": [],
   "source": [
    "cat_pipe = Pipeline([\n",
    "    ('imputer', SimpleImputer(strategy='constant', fill_value='NA')),\n",
    "    ('ohe', OneHotEncoder(handle_unknown='ignore', sparse=False))\n",
    "])"
   ]
  },
  {
   "cell_type": "code",
   "execution_count": 2,
   "metadata": {},
   "outputs": [
    {
     "name": "stderr",
     "output_type": "stream",
     "text": [
      "/opt/miniconda3/lib/python3.9/site-packages/statsmodels/compat/pandas.py:65: FutureWarning: pandas.Int64Index is deprecated and will be removed from pandas in a future version. Use pandas.Index with the appropriate dtype instead.\n",
      "  from pandas import Int64Index as NumericIndex\n"
     ]
    }
   ],
   "source": [
    "import category_encoders as ce"
   ]
  },
  {
   "cell_type": "code",
   "execution_count": 18,
   "metadata": {},
   "outputs": [],
   "source": [
    "preprocess_pipe = ColumnTransformer(transformers=[\n",
    "    ('real_cols', real_pipe, cfg.REAL_COLS),\n",
    "    ('cat_cols', cat_pipe, cfg.CAT_COLS),\n",
    "    ('woe_cat_cols', ce.WOEEncoder(), cfg.CAT_COLS),\n",
    "    ('ohe_cols', 'passthrough', cfg.OHE_COLS)\n",
    "]\n",
    ")"
   ]
  },
  {
   "cell_type": "code",
   "execution_count": 19,
   "metadata": {},
   "outputs": [],
   "source": [
    "model = LinearSVC()"
   ]
  },
  {
   "cell_type": "code",
   "execution_count": 20,
   "metadata": {},
   "outputs": [],
   "source": [
    "model_pipe = Pipeline([\n",
    "    ('preprocess', preprocess_pipe),\n",
    "    ('model', model)\n",
    "]\n",
    ")"
   ]
  },
  {
   "cell_type": "code",
   "execution_count": 21,
   "metadata": {},
   "outputs": [],
   "source": [
    "multiout_model_pipe = MultiOutputClassifier(model_pipe, n_jobs=4)"
   ]
  },
  {
   "cell_type": "code",
   "execution_count": 24,
   "metadata": {},
   "outputs": [
    {
     "name": "stderr",
     "output_type": "stream",
     "text": [
      "/opt/miniconda3/lib/python3.9/site-packages/sklearn/svm/_base.py:1225: ConvergenceWarning: Liblinear failed to converge, increase the number of iterations.\n",
      "  warnings.warn(\n",
      "/opt/miniconda3/lib/python3.9/site-packages/sklearn/svm/_base.py:1225: ConvergenceWarning: Liblinear failed to converge, increase the number of iterations.\n",
      "  warnings.warn(\n",
      "/opt/miniconda3/lib/python3.9/site-packages/sklearn/metrics/_classification.py:1599: UndefinedMetricWarning: F-score is ill-defined and being set to 0.0 in samples with no true nor predicted labels. Use `zero_division` parameter to control this behavior.\n",
      "  _warn_prf(average, \"true nor predicted\", \"F-score is\", len(true_sum))\n",
      "/opt/miniconda3/lib/python3.9/site-packages/sklearn/svm/_base.py:1225: ConvergenceWarning: Liblinear failed to converge, increase the number of iterations.\n",
      "  warnings.warn(\n",
      "/opt/miniconda3/lib/python3.9/site-packages/sklearn/svm/_base.py:1225: ConvergenceWarning: Liblinear failed to converge, increase the number of iterations.\n",
      "  warnings.warn(\n",
      "/opt/miniconda3/lib/python3.9/site-packages/sklearn/svm/_base.py:1225: ConvergenceWarning: Liblinear failed to converge, increase the number of iterations.\n",
      "  warnings.warn(\n",
      "/opt/miniconda3/lib/python3.9/site-packages/sklearn/metrics/_classification.py:1599: UndefinedMetricWarning: F-score is ill-defined and being set to 0.0 in samples with no true nor predicted labels. Use `zero_division` parameter to control this behavior.\n",
      "  _warn_prf(average, \"true nor predicted\", \"F-score is\", len(true_sum))\n",
      "/opt/miniconda3/lib/python3.9/site-packages/sklearn/svm/_base.py:1225: ConvergenceWarning: Liblinear failed to converge, increase the number of iterations.\n",
      "  warnings.warn(\n",
      "/opt/miniconda3/lib/python3.9/site-packages/sklearn/svm/_base.py:1225: ConvergenceWarning: Liblinear failed to converge, increase the number of iterations.\n",
      "  warnings.warn(\n",
      "/opt/miniconda3/lib/python3.9/site-packages/sklearn/svm/_base.py:1225: ConvergenceWarning: Liblinear failed to converge, increase the number of iterations.\n",
      "  warnings.warn(\n",
      "/opt/miniconda3/lib/python3.9/site-packages/sklearn/metrics/_classification.py:1599: UndefinedMetricWarning: F-score is ill-defined and being set to 0.0 in samples with no true nor predicted labels. Use `zero_division` parameter to control this behavior.\n",
      "  _warn_prf(average, \"true nor predicted\", \"F-score is\", len(true_sum))\n"
     ]
    }
   ],
   "source": [
    "scores = cross_val_score(\n",
    "    estimator=multiout_model_pipe,\n",
    "    X=train_data,\n",
    "    y=train_target,\n",
    "    scoring='f1_samples',\n",
    "    cv=3,\n",
    "    n_jobs=1\n",
    ")"
   ]
  },
  {
   "cell_type": "code",
   "execution_count": 25,
   "metadata": {},
   "outputs": [
    {
     "data": {
      "text/plain": [
       "array([0.24287582, 0.21764706, 0.23425197])"
      ]
     },
     "execution_count": 25,
     "metadata": {},
     "output_type": "execute_result"
    }
   ],
   "source": [
    "scores"
   ]
  },
  {
   "cell_type": "code",
   "execution_count": 1,
   "metadata": {},
   "outputs": [
    {
     "name": "stderr",
     "output_type": "stream",
     "text": [
      "/opt/miniconda3/lib/python3.9/site-packages/statsmodels/compat/pandas.py:65: FutureWarning: pandas.Int64Index is deprecated and will be removed from pandas in a future version. Use pandas.Index with the appropriate dtype instead.\n",
      "  from pandas import Int64Index as NumericIndex\n"
     ]
    }
   ],
   "source": [
    "from src.models.sklearn_model import model"
   ]
  },
  {
   "cell_type": "code",
   "execution_count": 3,
   "metadata": {},
   "outputs": [],
   "source": [
    "import pandas as pd"
   ]
  },
  {
   "cell_type": "code",
   "execution_count": 5,
   "metadata": {},
   "outputs": [],
   "source": [
    "train = pd.read_pickle('../data/processed/train.pkl')\n",
    "target = pd.read_pickle('../data/interim/target.pkl')"
   ]
  },
  {
   "cell_type": "code",
   "execution_count": 21,
   "metadata": {},
   "outputs": [],
   "source": [
    "import category_encoders as ce\n",
    "import src.config as cfg\n",
    "from sklearn.compose import ColumnTransformer\n",
    "from sklearn.impute import SimpleImputer\n",
    "from sklearn.multioutput import MultiOutputClassifier\n",
    "from sklearn.pipeline import Pipeline\n",
    "from sklearn.preprocessing import OneHotEncoder, StandardScaler\n",
    "from sklearn.svm import LinearSVC\n",
    "from sklearn.linear_model import LogisticRegression\n",
    "\n",
    "real_pipe = Pipeline([\n",
    "    ('imputer', SimpleImputer()),\n",
    "    ('scaler', StandardScaler())\n",
    "    ]\n",
    ")\n",
    "\n",
    "cat_pipe = Pipeline([\n",
    "    ('imputer', SimpleImputer(strategy='constant', fill_value='NA')),\n",
    "    ('ohe', OneHotEncoder(handle_unknown='ignore', sparse=False))\n",
    "    ]\n",
    ")\n",
    "\n",
    "preprocess_pipe = ColumnTransformer(transformers=[\n",
    "    ('real_cols', real_pipe, cfg.REAL_COLS),\n",
    "    ('cat_cols', cat_pipe, cfg.CAT_COLS),\n",
    "    ('woe_cat_cols', ce.WOEEncoder(), cfg.CAT_COLS),\n",
    "    ('ohe_cols', 'passthrough', cfg.OHE_COLS)\n",
    "    ]\n",
    ")\n",
    "\n",
    "base_model = LogisticRegression()\n",
    "\n",
    "model = MultiOutputClassifier(Pipeline([\n",
    "    ('preprocess', preprocess_pipe),\n",
    "    ('model', base_model)\n",
    "    ]\n",
    ")\n",
    ")"
   ]
  },
  {
   "cell_type": "code",
   "execution_count": 22,
   "metadata": {},
   "outputs": [
    {
     "name": "stderr",
     "output_type": "stream",
     "text": [
      "/opt/miniconda3/lib/python3.9/site-packages/sklearn/linear_model/_logistic.py:444: ConvergenceWarning: lbfgs failed to converge (status=1):\n",
      "STOP: TOTAL NO. of ITERATIONS REACHED LIMIT.\n",
      "\n",
      "Increase the number of iterations (max_iter) or scale the data as shown in:\n",
      "    https://scikit-learn.org/stable/modules/preprocessing.html\n",
      "Please also refer to the documentation for alternative solver options:\n",
      "    https://scikit-learn.org/stable/modules/linear_model.html#logistic-regression\n",
      "  n_iter_i = _check_optimize_result(\n"
     ]
    },
    {
     "data": {
      "text/html": [
       "<style>#sk-container-id-4 {color: black;background-color: white;}#sk-container-id-4 pre{padding: 0;}#sk-container-id-4 div.sk-toggleable {background-color: white;}#sk-container-id-4 label.sk-toggleable__label {cursor: pointer;display: block;width: 100%;margin-bottom: 0;padding: 0.3em;box-sizing: border-box;text-align: center;}#sk-container-id-4 label.sk-toggleable__label-arrow:before {content: \"▸\";float: left;margin-right: 0.25em;color: #696969;}#sk-container-id-4 label.sk-toggleable__label-arrow:hover:before {color: black;}#sk-container-id-4 div.sk-estimator:hover label.sk-toggleable__label-arrow:before {color: black;}#sk-container-id-4 div.sk-toggleable__content {max-height: 0;max-width: 0;overflow: hidden;text-align: left;background-color: #f0f8ff;}#sk-container-id-4 div.sk-toggleable__content pre {margin: 0.2em;color: black;border-radius: 0.25em;background-color: #f0f8ff;}#sk-container-id-4 input.sk-toggleable__control:checked~div.sk-toggleable__content {max-height: 200px;max-width: 100%;overflow: auto;}#sk-container-id-4 input.sk-toggleable__control:checked~label.sk-toggleable__label-arrow:before {content: \"▾\";}#sk-container-id-4 div.sk-estimator input.sk-toggleable__control:checked~label.sk-toggleable__label {background-color: #d4ebff;}#sk-container-id-4 div.sk-label input.sk-toggleable__control:checked~label.sk-toggleable__label {background-color: #d4ebff;}#sk-container-id-4 input.sk-hidden--visually {border: 0;clip: rect(1px 1px 1px 1px);clip: rect(1px, 1px, 1px, 1px);height: 1px;margin: -1px;overflow: hidden;padding: 0;position: absolute;width: 1px;}#sk-container-id-4 div.sk-estimator {font-family: monospace;background-color: #f0f8ff;border: 1px dotted black;border-radius: 0.25em;box-sizing: border-box;margin-bottom: 0.5em;}#sk-container-id-4 div.sk-estimator:hover {background-color: #d4ebff;}#sk-container-id-4 div.sk-parallel-item::after {content: \"\";width: 100%;border-bottom: 1px solid gray;flex-grow: 1;}#sk-container-id-4 div.sk-label:hover label.sk-toggleable__label {background-color: #d4ebff;}#sk-container-id-4 div.sk-serial::before {content: \"\";position: absolute;border-left: 1px solid gray;box-sizing: border-box;top: 0;bottom: 0;left: 50%;z-index: 0;}#sk-container-id-4 div.sk-serial {display: flex;flex-direction: column;align-items: center;background-color: white;padding-right: 0.2em;padding-left: 0.2em;position: relative;}#sk-container-id-4 div.sk-item {position: relative;z-index: 1;}#sk-container-id-4 div.sk-parallel {display: flex;align-items: stretch;justify-content: center;background-color: white;position: relative;}#sk-container-id-4 div.sk-item::before, #sk-container-id-4 div.sk-parallel-item::before {content: \"\";position: absolute;border-left: 1px solid gray;box-sizing: border-box;top: 0;bottom: 0;left: 50%;z-index: -1;}#sk-container-id-4 div.sk-parallel-item {display: flex;flex-direction: column;z-index: 1;position: relative;background-color: white;}#sk-container-id-4 div.sk-parallel-item:first-child::after {align-self: flex-end;width: 50%;}#sk-container-id-4 div.sk-parallel-item:last-child::after {align-self: flex-start;width: 50%;}#sk-container-id-4 div.sk-parallel-item:only-child::after {width: 0;}#sk-container-id-4 div.sk-dashed-wrapped {border: 1px dashed gray;margin: 0 0.4em 0.5em 0.4em;box-sizing: border-box;padding-bottom: 0.4em;background-color: white;}#sk-container-id-4 div.sk-label label {font-family: monospace;font-weight: bold;display: inline-block;line-height: 1.2em;}#sk-container-id-4 div.sk-label-container {text-align: center;}#sk-container-id-4 div.sk-container {/* jupyter's `normalize.less` sets `[hidden] { display: none; }` but bootstrap.min.css set `[hidden] { display: none !important; }` so we also need the `!important` here to be able to override the default hidden behavior on the sphinx rendered scikit-learn.org. See: https://github.com/scikit-learn/scikit-learn/issues/21755 */display: inline-block !important;position: relative;}#sk-container-id-4 div.sk-text-repr-fallback {display: none;}</style><div id=\"sk-container-id-4\" class=\"sk-top-container\"><div class=\"sk-text-repr-fallback\"><pre>MultiOutputClassifier(estimator=Pipeline(steps=[(&#x27;preprocess&#x27;,\n",
       "                                                 ColumnTransformer(transformers=[(&#x27;real_cols&#x27;,\n",
       "                                                                                  Pipeline(steps=[(&#x27;imputer&#x27;,\n",
       "                                                                                                   SimpleImputer()),\n",
       "                                                                                                  (&#x27;scaler&#x27;,\n",
       "                                                                                                   StandardScaler())]),\n",
       "                                                                                  [&#x27;Возраст &#x27;\n",
       "                                                                                   &#x27;курения&#x27;,\n",
       "                                                                                   &#x27;Сигарет &#x27;\n",
       "                                                                                   &#x27;в &#x27;\n",
       "                                                                                   &#x27;день&#x27;,\n",
       "                                                                                   &#x27;Возраст &#x27;\n",
       "                                                                                   &#x27;алког&#x27;]),\n",
       "                                                                                 (&#x27;cat_cols&#x27;,\n",
       "                                                                                  Pipeline(steps=[(&#x27;imputer&#x27;,\n",
       "                                                                                                   SimpleImputer(fill_value=&#x27;NA&#x27;,\n",
       "                                                                                                                 strategy=&#x27;constant&#x27;)),\n",
       "                                                                                                  (&#x27;ohe&#x27;,\n",
       "                                                                                                   OneHotEncoder...\n",
       "                                                                                   &#x27;Прекращение &#x27;\n",
       "                                                                                   &#x27;работы &#x27;\n",
       "                                                                                   &#x27;по &#x27;\n",
       "                                                                                   &#x27;болезни&#x27;,\n",
       "                                                                                   &#x27;Сахарный &#x27;\n",
       "                                                                                   &#x27;диабет&#x27;,\n",
       "                                                                                   &#x27;Гепатит&#x27;,\n",
       "                                                                                   &#x27;Онкология&#x27;,\n",
       "                                                                                   &#x27;Хроническое &#x27;\n",
       "                                                                                   &#x27;заболевание &#x27;\n",
       "                                                                                   &#x27;легких&#x27;,\n",
       "                                                                                   &#x27;Бронжиальная &#x27;\n",
       "                                                                                   &#x27;астма&#x27;,\n",
       "                                                                                   &#x27;Туберкулез &#x27;\n",
       "                                                                                   &#x27;легких &#x27;,\n",
       "                                                                                   &#x27;ВИЧ/СПИД&#x27;,\n",
       "                                                                                   &#x27;Регулярный &#x27;\n",
       "                                                                                   &#x27;прим &#x27;\n",
       "                                                                                   &#x27;лекарственных &#x27;\n",
       "                                                                                   &#x27;средств&#x27;,\n",
       "                                                                                   &#x27;Травмы &#x27;\n",
       "                                                                                   &#x27;за &#x27;\n",
       "                                                                                   &#x27;год&#x27;,\n",
       "                                                                                   &#x27;Переломы&#x27;,\n",
       "                                                                                   &#x27;Пассивное &#x27;\n",
       "                                                                                   &#x27;курение&#x27;,\n",
       "                                                                                   &#x27;Сон &#x27;\n",
       "                                                                                   &#x27;после &#x27;\n",
       "                                                                                   &#x27;обеда&#x27;,\n",
       "                                                                                   &#x27;Спорт, &#x27;\n",
       "                                                                                   &#x27;клубы&#x27;,\n",
       "                                                                                   &#x27;Религия, &#x27;\n",
       "                                                                                   &#x27;клубы&#x27;])])),\n",
       "                                                (&#x27;model&#x27;,\n",
       "                                                 LogisticRegression())]))</pre><b>In a Jupyter environment, please rerun this cell to show the HTML representation or trust the notebook. <br />On GitHub, the HTML representation is unable to render, please try loading this page with nbviewer.org.</b></div><div class=\"sk-container\" hidden><div class=\"sk-item sk-dashed-wrapped\"><div class=\"sk-label-container\"><div class=\"sk-label sk-toggleable\"><input class=\"sk-toggleable__control sk-hidden--visually\" id=\"sk-estimator-id-42\" type=\"checkbox\" ><label for=\"sk-estimator-id-42\" class=\"sk-toggleable__label sk-toggleable__label-arrow\">MultiOutputClassifier</label><div class=\"sk-toggleable__content\"><pre>MultiOutputClassifier(estimator=Pipeline(steps=[(&#x27;preprocess&#x27;,\n",
       "                                                 ColumnTransformer(transformers=[(&#x27;real_cols&#x27;,\n",
       "                                                                                  Pipeline(steps=[(&#x27;imputer&#x27;,\n",
       "                                                                                                   SimpleImputer()),\n",
       "                                                                                                  (&#x27;scaler&#x27;,\n",
       "                                                                                                   StandardScaler())]),\n",
       "                                                                                  [&#x27;Возраст &#x27;\n",
       "                                                                                   &#x27;курения&#x27;,\n",
       "                                                                                   &#x27;Сигарет &#x27;\n",
       "                                                                                   &#x27;в &#x27;\n",
       "                                                                                   &#x27;день&#x27;,\n",
       "                                                                                   &#x27;Возраст &#x27;\n",
       "                                                                                   &#x27;алког&#x27;]),\n",
       "                                                                                 (&#x27;cat_cols&#x27;,\n",
       "                                                                                  Pipeline(steps=[(&#x27;imputer&#x27;,\n",
       "                                                                                                   SimpleImputer(fill_value=&#x27;NA&#x27;,\n",
       "                                                                                                                 strategy=&#x27;constant&#x27;)),\n",
       "                                                                                                  (&#x27;ohe&#x27;,\n",
       "                                                                                                   OneHotEncoder...\n",
       "                                                                                   &#x27;Прекращение &#x27;\n",
       "                                                                                   &#x27;работы &#x27;\n",
       "                                                                                   &#x27;по &#x27;\n",
       "                                                                                   &#x27;болезни&#x27;,\n",
       "                                                                                   &#x27;Сахарный &#x27;\n",
       "                                                                                   &#x27;диабет&#x27;,\n",
       "                                                                                   &#x27;Гепатит&#x27;,\n",
       "                                                                                   &#x27;Онкология&#x27;,\n",
       "                                                                                   &#x27;Хроническое &#x27;\n",
       "                                                                                   &#x27;заболевание &#x27;\n",
       "                                                                                   &#x27;легких&#x27;,\n",
       "                                                                                   &#x27;Бронжиальная &#x27;\n",
       "                                                                                   &#x27;астма&#x27;,\n",
       "                                                                                   &#x27;Туберкулез &#x27;\n",
       "                                                                                   &#x27;легких &#x27;,\n",
       "                                                                                   &#x27;ВИЧ/СПИД&#x27;,\n",
       "                                                                                   &#x27;Регулярный &#x27;\n",
       "                                                                                   &#x27;прим &#x27;\n",
       "                                                                                   &#x27;лекарственных &#x27;\n",
       "                                                                                   &#x27;средств&#x27;,\n",
       "                                                                                   &#x27;Травмы &#x27;\n",
       "                                                                                   &#x27;за &#x27;\n",
       "                                                                                   &#x27;год&#x27;,\n",
       "                                                                                   &#x27;Переломы&#x27;,\n",
       "                                                                                   &#x27;Пассивное &#x27;\n",
       "                                                                                   &#x27;курение&#x27;,\n",
       "                                                                                   &#x27;Сон &#x27;\n",
       "                                                                                   &#x27;после &#x27;\n",
       "                                                                                   &#x27;обеда&#x27;,\n",
       "                                                                                   &#x27;Спорт, &#x27;\n",
       "                                                                                   &#x27;клубы&#x27;,\n",
       "                                                                                   &#x27;Религия, &#x27;\n",
       "                                                                                   &#x27;клубы&#x27;])])),\n",
       "                                                (&#x27;model&#x27;,\n",
       "                                                 LogisticRegression())]))</pre></div></div></div><div class=\"sk-parallel\"><div class=\"sk-parallel-item\"><div class=\"sk-item\"><div class=\"sk-label-container\"><div class=\"sk-label sk-toggleable\"><input class=\"sk-toggleable__control sk-hidden--visually\" id=\"sk-estimator-id-43\" type=\"checkbox\" ><label for=\"sk-estimator-id-43\" class=\"sk-toggleable__label sk-toggleable__label-arrow\">estimator: Pipeline</label><div class=\"sk-toggleable__content\"><pre>Pipeline(steps=[(&#x27;preprocess&#x27;,\n",
       "                 ColumnTransformer(transformers=[(&#x27;real_cols&#x27;,\n",
       "                                                  Pipeline(steps=[(&#x27;imputer&#x27;,\n",
       "                                                                   SimpleImputer()),\n",
       "                                                                  (&#x27;scaler&#x27;,\n",
       "                                                                   StandardScaler())]),\n",
       "                                                  [&#x27;Возраст курения&#x27;,\n",
       "                                                   &#x27;Сигарет в день&#x27;,\n",
       "                                                   &#x27;Возраст алког&#x27;]),\n",
       "                                                 (&#x27;cat_cols&#x27;,\n",
       "                                                  Pipeline(steps=[(&#x27;imputer&#x27;,\n",
       "                                                                   SimpleImputer(fill_value=&#x27;NA&#x27;,\n",
       "                                                                                 strategy=&#x27;constant&#x27;)),\n",
       "                                                                  (&#x27;ohe&#x27;,\n",
       "                                                                   OneHotEncoder(handle_unknown=&#x27;ignore&#x27;,\n",
       "                                                                                 sparse=False))]...\n",
       "                                                  [&#x27;Вы работаете?&#x27;,\n",
       "                                                   &#x27;Выход на пенсию&#x27;,\n",
       "                                                   &#x27;Прекращение работы по &#x27;\n",
       "                                                   &#x27;болезни&#x27;,\n",
       "                                                   &#x27;Сахарный диабет&#x27;, &#x27;Гепатит&#x27;,\n",
       "                                                   &#x27;Онкология&#x27;,\n",
       "                                                   &#x27;Хроническое заболевание &#x27;\n",
       "                                                   &#x27;легких&#x27;,\n",
       "                                                   &#x27;Бронжиальная астма&#x27;,\n",
       "                                                   &#x27;Туберкулез легких &#x27;,\n",
       "                                                   &#x27;ВИЧ/СПИД&#x27;,\n",
       "                                                   &#x27;Регулярный прим &#x27;\n",
       "                                                   &#x27;лекарственных средств&#x27;,\n",
       "                                                   &#x27;Травмы за год&#x27;, &#x27;Переломы&#x27;,\n",
       "                                                   &#x27;Пассивное курение&#x27;,\n",
       "                                                   &#x27;Сон после обеда&#x27;,\n",
       "                                                   &#x27;Спорт, клубы&#x27;,\n",
       "                                                   &#x27;Религия, клубы&#x27;])])),\n",
       "                (&#x27;model&#x27;, LogisticRegression())])</pre></div></div></div><div class=\"sk-serial\"><div class=\"sk-item\"><div class=\"sk-serial\"><div class=\"sk-item sk-dashed-wrapped\"><div class=\"sk-label-container\"><div class=\"sk-label sk-toggleable\"><input class=\"sk-toggleable__control sk-hidden--visually\" id=\"sk-estimator-id-44\" type=\"checkbox\" ><label for=\"sk-estimator-id-44\" class=\"sk-toggleable__label sk-toggleable__label-arrow\">preprocess: ColumnTransformer</label><div class=\"sk-toggleable__content\"><pre>ColumnTransformer(transformers=[(&#x27;real_cols&#x27;,\n",
       "                                 Pipeline(steps=[(&#x27;imputer&#x27;, SimpleImputer()),\n",
       "                                                 (&#x27;scaler&#x27;, StandardScaler())]),\n",
       "                                 [&#x27;Возраст курения&#x27;, &#x27;Сигарет в день&#x27;,\n",
       "                                  &#x27;Возраст алког&#x27;]),\n",
       "                                (&#x27;cat_cols&#x27;,\n",
       "                                 Pipeline(steps=[(&#x27;imputer&#x27;,\n",
       "                                                  SimpleImputer(fill_value=&#x27;NA&#x27;,\n",
       "                                                                strategy=&#x27;constant&#x27;)),\n",
       "                                                 (&#x27;ohe&#x27;,\n",
       "                                                  OneHotEncoder(handle_unknown=&#x27;ignore&#x27;,\n",
       "                                                                sparse=False))]),\n",
       "                                 [&#x27;Пол&#x27;, &#x27;Семья&#x27;, &#x27;Этнос&#x27;, &#x27;Наци...\n",
       "                                  &#x27;Время пробуждения&#x27;]),\n",
       "                                (&#x27;ohe_cols&#x27;, &#x27;passthrough&#x27;,\n",
       "                                 [&#x27;Вы работаете?&#x27;, &#x27;Выход на пенсию&#x27;,\n",
       "                                  &#x27;Прекращение работы по болезни&#x27;,\n",
       "                                  &#x27;Сахарный диабет&#x27;, &#x27;Гепатит&#x27;, &#x27;Онкология&#x27;,\n",
       "                                  &#x27;Хроническое заболевание легких&#x27;,\n",
       "                                  &#x27;Бронжиальная астма&#x27;, &#x27;Туберкулез легких &#x27;,\n",
       "                                  &#x27;ВИЧ/СПИД&#x27;,\n",
       "                                  &#x27;Регулярный прим лекарственных средств&#x27;,\n",
       "                                  &#x27;Травмы за год&#x27;, &#x27;Переломы&#x27;,\n",
       "                                  &#x27;Пассивное курение&#x27;, &#x27;Сон после обеда&#x27;,\n",
       "                                  &#x27;Спорт, клубы&#x27;, &#x27;Религия, клубы&#x27;])])</pre></div></div></div><div class=\"sk-parallel\"><div class=\"sk-parallel-item\"><div class=\"sk-item\"><div class=\"sk-label-container\"><div class=\"sk-label sk-toggleable\"><input class=\"sk-toggleable__control sk-hidden--visually\" id=\"sk-estimator-id-45\" type=\"checkbox\" ><label for=\"sk-estimator-id-45\" class=\"sk-toggleable__label sk-toggleable__label-arrow\">real_cols</label><div class=\"sk-toggleable__content\"><pre>[&#x27;Возраст курения&#x27;, &#x27;Сигарет в день&#x27;, &#x27;Возраст алког&#x27;]</pre></div></div></div><div class=\"sk-serial\"><div class=\"sk-item\"><div class=\"sk-serial\"><div class=\"sk-item\"><div class=\"sk-estimator sk-toggleable\"><input class=\"sk-toggleable__control sk-hidden--visually\" id=\"sk-estimator-id-46\" type=\"checkbox\" ><label for=\"sk-estimator-id-46\" class=\"sk-toggleable__label sk-toggleable__label-arrow\">SimpleImputer</label><div class=\"sk-toggleable__content\"><pre>SimpleImputer()</pre></div></div></div><div class=\"sk-item\"><div class=\"sk-estimator sk-toggleable\"><input class=\"sk-toggleable__control sk-hidden--visually\" id=\"sk-estimator-id-47\" type=\"checkbox\" ><label for=\"sk-estimator-id-47\" class=\"sk-toggleable__label sk-toggleable__label-arrow\">StandardScaler</label><div class=\"sk-toggleable__content\"><pre>StandardScaler()</pre></div></div></div></div></div></div></div></div><div class=\"sk-parallel-item\"><div class=\"sk-item\"><div class=\"sk-label-container\"><div class=\"sk-label sk-toggleable\"><input class=\"sk-toggleable__control sk-hidden--visually\" id=\"sk-estimator-id-48\" type=\"checkbox\" ><label for=\"sk-estimator-id-48\" class=\"sk-toggleable__label sk-toggleable__label-arrow\">cat_cols</label><div class=\"sk-toggleable__content\"><pre>[&#x27;Пол&#x27;, &#x27;Семья&#x27;, &#x27;Этнос&#x27;, &#x27;Национальность&#x27;, &#x27;Религия&#x27;, &#x27;Образование&#x27;, &#x27;Профессия&#x27;, &#x27;Статус Курения&#x27;, &#x27;Частота пасс кур&#x27;, &#x27;Алкоголь&#x27;, &#x27;Время засыпания&#x27;, &#x27;Время пробуждения&#x27;]</pre></div></div></div><div class=\"sk-serial\"><div class=\"sk-item\"><div class=\"sk-serial\"><div class=\"sk-item\"><div class=\"sk-estimator sk-toggleable\"><input class=\"sk-toggleable__control sk-hidden--visually\" id=\"sk-estimator-id-49\" type=\"checkbox\" ><label for=\"sk-estimator-id-49\" class=\"sk-toggleable__label sk-toggleable__label-arrow\">SimpleImputer</label><div class=\"sk-toggleable__content\"><pre>SimpleImputer(fill_value=&#x27;NA&#x27;, strategy=&#x27;constant&#x27;)</pre></div></div></div><div class=\"sk-item\"><div class=\"sk-estimator sk-toggleable\"><input class=\"sk-toggleable__control sk-hidden--visually\" id=\"sk-estimator-id-50\" type=\"checkbox\" ><label for=\"sk-estimator-id-50\" class=\"sk-toggleable__label sk-toggleable__label-arrow\">OneHotEncoder</label><div class=\"sk-toggleable__content\"><pre>OneHotEncoder(handle_unknown=&#x27;ignore&#x27;, sparse=False)</pre></div></div></div></div></div></div></div></div><div class=\"sk-parallel-item\"><div class=\"sk-item\"><div class=\"sk-label-container\"><div class=\"sk-label sk-toggleable\"><input class=\"sk-toggleable__control sk-hidden--visually\" id=\"sk-estimator-id-51\" type=\"checkbox\" ><label for=\"sk-estimator-id-51\" class=\"sk-toggleable__label sk-toggleable__label-arrow\">woe_cat_cols</label><div class=\"sk-toggleable__content\"><pre>[&#x27;Пол&#x27;, &#x27;Семья&#x27;, &#x27;Этнос&#x27;, &#x27;Национальность&#x27;, &#x27;Религия&#x27;, &#x27;Образование&#x27;, &#x27;Профессия&#x27;, &#x27;Статус Курения&#x27;, &#x27;Частота пасс кур&#x27;, &#x27;Алкоголь&#x27;, &#x27;Время засыпания&#x27;, &#x27;Время пробуждения&#x27;]</pre></div></div></div><div class=\"sk-serial\"><div class=\"sk-item\"><div class=\"sk-estimator sk-toggleable\"><input class=\"sk-toggleable__control sk-hidden--visually\" id=\"sk-estimator-id-52\" type=\"checkbox\" ><label for=\"sk-estimator-id-52\" class=\"sk-toggleable__label sk-toggleable__label-arrow\">WOEEncoder</label><div class=\"sk-toggleable__content\"><pre>WOEEncoder()</pre></div></div></div></div></div></div><div class=\"sk-parallel-item\"><div class=\"sk-item\"><div class=\"sk-label-container\"><div class=\"sk-label sk-toggleable\"><input class=\"sk-toggleable__control sk-hidden--visually\" id=\"sk-estimator-id-53\" type=\"checkbox\" ><label for=\"sk-estimator-id-53\" class=\"sk-toggleable__label sk-toggleable__label-arrow\">ohe_cols</label><div class=\"sk-toggleable__content\"><pre>[&#x27;Вы работаете?&#x27;, &#x27;Выход на пенсию&#x27;, &#x27;Прекращение работы по болезни&#x27;, &#x27;Сахарный диабет&#x27;, &#x27;Гепатит&#x27;, &#x27;Онкология&#x27;, &#x27;Хроническое заболевание легких&#x27;, &#x27;Бронжиальная астма&#x27;, &#x27;Туберкулез легких &#x27;, &#x27;ВИЧ/СПИД&#x27;, &#x27;Регулярный прим лекарственных средств&#x27;, &#x27;Травмы за год&#x27;, &#x27;Переломы&#x27;, &#x27;Пассивное курение&#x27;, &#x27;Сон после обеда&#x27;, &#x27;Спорт, клубы&#x27;, &#x27;Религия, клубы&#x27;]</pre></div></div></div><div class=\"sk-serial\"><div class=\"sk-item\"><div class=\"sk-estimator sk-toggleable\"><input class=\"sk-toggleable__control sk-hidden--visually\" id=\"sk-estimator-id-54\" type=\"checkbox\" ><label for=\"sk-estimator-id-54\" class=\"sk-toggleable__label sk-toggleable__label-arrow\">passthrough</label><div class=\"sk-toggleable__content\"><pre>passthrough</pre></div></div></div></div></div></div></div></div><div class=\"sk-item\"><div class=\"sk-estimator sk-toggleable\"><input class=\"sk-toggleable__control sk-hidden--visually\" id=\"sk-estimator-id-55\" type=\"checkbox\" ><label for=\"sk-estimator-id-55\" class=\"sk-toggleable__label sk-toggleable__label-arrow\">LogisticRegression</label><div class=\"sk-toggleable__content\"><pre>LogisticRegression()</pre></div></div></div></div></div></div></div></div></div></div></div></div>"
      ],
      "text/plain": [
       "MultiOutputClassifier(estimator=Pipeline(steps=[('preprocess',\n",
       "                                                 ColumnTransformer(transformers=[('real_cols',\n",
       "                                                                                  Pipeline(steps=[('imputer',\n",
       "                                                                                                   SimpleImputer()),\n",
       "                                                                                                  ('scaler',\n",
       "                                                                                                   StandardScaler())]),\n",
       "                                                                                  ['Возраст '\n",
       "                                                                                   'курения',\n",
       "                                                                                   'Сигарет '\n",
       "                                                                                   'в '\n",
       "                                                                                   'день',\n",
       "                                                                                   'Возраст '\n",
       "                                                                                   'алког']),\n",
       "                                                                                 ('cat_cols',\n",
       "                                                                                  Pipeline(steps=[('imputer',\n",
       "                                                                                                   SimpleImputer(fill_value='NA',\n",
       "                                                                                                                 strategy='constant')),\n",
       "                                                                                                  ('ohe',\n",
       "                                                                                                   OneHotEncoder...\n",
       "                                                                                   'Прекращение '\n",
       "                                                                                   'работы '\n",
       "                                                                                   'по '\n",
       "                                                                                   'болезни',\n",
       "                                                                                   'Сахарный '\n",
       "                                                                                   'диабет',\n",
       "                                                                                   'Гепатит',\n",
       "                                                                                   'Онкология',\n",
       "                                                                                   'Хроническое '\n",
       "                                                                                   'заболевание '\n",
       "                                                                                   'легких',\n",
       "                                                                                   'Бронжиальная '\n",
       "                                                                                   'астма',\n",
       "                                                                                   'Туберкулез '\n",
       "                                                                                   'легких ',\n",
       "                                                                                   'ВИЧ/СПИД',\n",
       "                                                                                   'Регулярный '\n",
       "                                                                                   'прим '\n",
       "                                                                                   'лекарственных '\n",
       "                                                                                   'средств',\n",
       "                                                                                   'Травмы '\n",
       "                                                                                   'за '\n",
       "                                                                                   'год',\n",
       "                                                                                   'Переломы',\n",
       "                                                                                   'Пассивное '\n",
       "                                                                                   'курение',\n",
       "                                                                                   'Сон '\n",
       "                                                                                   'после '\n",
       "                                                                                   'обеда',\n",
       "                                                                                   'Спорт, '\n",
       "                                                                                   'клубы',\n",
       "                                                                                   'Религия, '\n",
       "                                                                                   'клубы'])])),\n",
       "                                                ('model',\n",
       "                                                 LogisticRegression())]))"
      ]
     },
     "execution_count": 22,
     "metadata": {},
     "output_type": "execute_result"
    }
   ],
   "source": [
    "model.fit(train, target)"
   ]
  },
  {
   "cell_type": "code",
   "execution_count": 25,
   "metadata": {},
   "outputs": [],
   "source": [
    "pred = model.predict_proba(train)"
   ]
  },
  {
   "cell_type": "code",
   "execution_count": 41,
   "metadata": {},
   "outputs": [
    {
     "data": {
      "text/plain": [
       "<AxesSubplot:ylabel='Frequency'>"
      ]
     },
     "execution_count": 41,
     "metadata": {},
     "output_type": "execute_result"
    },
    {
     "data": {
      "image/png": "[encoded data removed]",
      "text/plain": [
       "<Figure size 432x288 with 1 Axes>"
      ]
     },
     "metadata": {
      "needs_background": "light"
     },
     "output_type": "display_data"
    }
   ],
   "source": [
    "pd.DataFrame(pred[1][:, 1]).plot(kind='hist', bins=100)"
   ]
  },
  {
   "cell_type": "code",
   "execution_count": 35,
   "metadata": {},
   "outputs": [
    {
     "data": {
      "text/plain": [
       "(955, 5)"
      ]
     },
     "execution_count": 35,
     "metadata": {},
     "output_type": "execute_result"
    }
   ],
   "source": [
    "np.stack([p[:, 1] for p in pred]).T.shape"
   ]
  },
  {
   "cell_type": "code",
   "execution_count": 20,
   "metadata": {},
   "outputs": [
    {
     "data": {
      "text/plain": [
       "(955, 5)"
      ]
     },
     "execution_count": 20,
     "metadata": {},
     "output_type": "execute_result"
    }
   ],
   "source": [
    "pred.shape"
   ]
  },
  {
   "cell_type": "code",
   "execution_count": 42,
   "metadata": {},
   "outputs": [],
   "source": [
    "a = [1,2,3]"
   ]
  },
  {
   "cell_type": "code",
   "execution_count": 43,
   "metadata": {},
   "outputs": [],
   "source": [
    "b = a[:]"
   ]
  },
  {
   "cell_type": "code",
   "execution_count": 44,
   "metadata": {},
   "outputs": [],
   "source": [
    "a[1] = 99"
   ]
  },
  {
   "cell_type": "code",
   "execution_count": 45,
   "metadata": {},
   "outputs": [
    {
     "data": {
      "text/plain": [
       "[1, 99, 3]"
      ]
     },
     "execution_count": 45,
     "metadata": {},
     "output_type": "execute_result"
    }
   ],
   "source": [
    "a"
   ]
  },
  {
   "cell_type": "code",
   "execution_count": 46,
   "metadata": {},
   "outputs": [
    {
     "data": {
      "text/plain": [
       "[1, 2, 3]"
      ]
     },
     "execution_count": 46,
     "metadata": {},
     "output_type": "execute_result"
    }
   ],
   "source": [
    "b"
   ]
  },
  {
   "cell_type": "code",
   "execution_count": 47,
   "metadata": {},
   "outputs": [],
   "source": [
    "df = pd.DataFrame({'A': [1,2,3], 'B': [4,5,6]})"
   ]
  },
  {
   "cell_type": "code",
   "execution_count": 48,
   "metadata": {},
   "outputs": [],
   "source": [
    "df2 = df['B']"
   ]
  },
  {
   "cell_type": "code",
   "execution_count": 51,
   "metadata": {},
   "outputs": [
    {
     "data": {
      "text/plain": [
       "True"
      ]
     },
     "execution_count": 51,
     "metadata": {},
     "output_type": "execute_result"
    }
   ],
   "source": [
    "df['B'].equals(df2)"
   ]
  },
  {
   "cell_type": "code",
   "execution_count": 52,
   "metadata": {},
   "outputs": [],
   "source": [
    "df.loc[1, 'B'] = 777"
   ]
  },
  {
   "cell_type": "code",
   "execution_count": 53,
   "metadata": {},
   "outputs": [
    {
     "data": {
      "text/html": [
       "<div>\n",
       "<style scoped>\n",
       "    .dataframe tbody tr th:only-of-type {\n",
       "        vertical-align: middle;\n",
       "    }\n",
       "\n",
       "    .dataframe tbody tr th {\n",
       "        vertical-align: top;\n",
       "    }\n",
       "\n",
       "    .dataframe thead th {\n",
       "        text-align: right;\n",
       "    }\n",
       "</style>\n",
       "<table border=\"1\" class=\"dataframe\">\n",
       "  <thead>\n",
       "    <tr style=\"text-align: right;\">\n",
       "      <th></th>\n",
       "      <th>A</th>\n",
       "      <th>B</th>\n",
       "    </tr>\n",
       "  </thead>\n",
       "  <tbody>\n",
       "    <tr>\n",
       "      <th>0</th>\n",
       "      <td>1</td>\n",
       "      <td>4</td>\n",
       "    </tr>\n",
       "    <tr>\n",
       "      <th>1</th>\n",
       "      <td>2</td>\n",
       "      <td>777</td>\n",
       "    </tr>\n",
       "    <tr>\n",
       "      <th>2</th>\n",
       "      <td>3</td>\n",
       "      <td>6</td>\n",
       "    </tr>\n",
       "  </tbody>\n",
       "</table>\n",
       "</div>"
      ],
      "text/plain": [
       "   A    B\n",
       "0  1    4\n",
       "1  2  777\n",
       "2  3    6"
      ]
     },
     "execution_count": 53,
     "metadata": {},
     "output_type": "execute_result"
    }
   ],
   "source": [
    "df"
   ]
  },
  {
   "cell_type": "code",
   "execution_count": 54,
   "metadata": {},
   "outputs": [
    {
     "data": {
      "text/plain": [
       "0      4\n",
       "1    777\n",
       "2      6\n",
       "Name: B, dtype: int64"
      ]
     },
     "execution_count": 54,
     "metadata": {},
     "output_type": "execute_result"
    }
   ],
   "source": [
    "df2"
   ]
  },
  {
   "cell_type": "code",
   "execution_count": 56,
   "metadata": {},
   "outputs": [],
   "source": [
    "val_true = pd.read_pickle('../data/interim/val_target.pkl')"
   ]
  },
  {
   "cell_type": "code",
   "execution_count": 57,
   "metadata": {},
   "outputs": [
    {
     "data": {
      "text/plain": [
       "(191, 5)"
      ]
     },
     "execution_count": 57,
     "metadata": {},
     "output_type": "execute_result"
    }
   ],
   "source": [
    "val_true.shape"
   ]
  },
  {
   "cell_type": "code",
   "execution_count": 60,
   "metadata": {},
   "outputs": [],
   "source": [
    "val_rand = np.random.randint(0, 2, size=val_true.shape)"
   ]
  },
  {
   "cell_type": "code",
   "execution_count": 61,
   "metadata": {},
   "outputs": [],
   "source": [
    "import pickle"
   ]
  },
  {
   "cell_type": "code",
   "execution_count": 62,
   "metadata": {},
   "outputs": [],
   "source": [
    "with open('../predictions/val_predict_rand.pkl', 'wb') as f:\n",
    "    pickle.dump(val_rand, f)"
   ]
  }
 ],
 "metadata": {
  "kernelspec": {
   "display_name": "Python 3.9.5 ('base')",
   "language": "python",
   "name": "python3"
  },
  "language_info": {
   "codemirror_mode": {
    "name": "ipython",
    "version": 3
   },
   "file_extension": ".py",
   "mimetype": "text/x-python",
   "name": "python",
   "nbconvert_exporter": "python",
   "pygments_lexer": "ipython3",
   "version": "3.9.5"
  },
  "orig_nbformat": 4,
  "vscode": {
   "interpreter": {
    "hash": "3d597f4c481aa0f25dceb95d2a0067e73c0966dcbd003d741d821a7208527ecf"
   }
  }
 },
 "nbformat": 4,
 "nbformat_minor": 2
}
